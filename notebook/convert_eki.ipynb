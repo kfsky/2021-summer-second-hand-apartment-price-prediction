{
 "cells": [
  {
   "cell_type": "code",
   "execution_count": 80,
   "id": "monthly-desert",
   "metadata": {},
   "outputs": [],
   "source": [
    "import pandas as pd\n",
    "pd.set_option('display.max_columns', 100)\n",
    "import json"
   ]
  },
  {
   "cell_type": "code",
   "execution_count": 72,
   "id": "german-encoding",
   "metadata": {},
   "outputs": [
    {
     "name": "stdout",
     "output_type": "stream",
     "text": [
      "                    type                                           features\n",
      "0      FeatureCollection  {'type': 'Feature', 'properties': {'駅名': '二月田'...\n",
      "1      FeatureCollection  {'type': 'Feature', 'properties': {'駅名': '古島',...\n",
      "2      FeatureCollection  {'type': 'Feature', 'properties': {'駅名': 'お台場海...\n",
      "3      FeatureCollection  {'type': 'Feature', 'properties': {'駅名': '東京国際...\n",
      "4      FeatureCollection  {'type': 'Feature', 'properties': {'駅名': 'テレコム...\n",
      "...                  ...                                                ...\n",
      "10441  FeatureCollection  {'type': 'Feature', 'properties': {'駅名': '栄町',...\n",
      "10442  FeatureCollection  {'type': 'Feature', 'properties': {'駅名': '清流みは...\n",
      "10443  FeatureCollection  {'type': 'Feature', 'properties': {'駅名': '八木沢・...\n",
      "10444  FeatureCollection  {'type': 'Feature', 'properties': {'駅名': '払川',...\n",
      "10445  FeatureCollection  {'type': 'Feature', 'properties': {'駅名': '糸島高校...\n",
      "\n",
      "[10446 rows x 2 columns]\n"
     ]
    },
    {
     "data": {
      "text/plain": [
       "Index(['type', 'features'], dtype='object')"
      ]
     },
     "execution_count": 72,
     "metadata": {},
     "output_type": "execute_result"
    }
   ],
   "source": [
    "df = pd.read_json('../add/S12-19_NumberOfPassengers.geojson')\n",
    "print(df)\n",
    "df.columns"
   ]
  },
  {
   "cell_type": "code",
   "execution_count": 78,
   "id": "novel-james",
   "metadata": {},
   "outputs": [],
   "source": [
    "df_json = pd.json_normalize(df['features'])"
   ]
  },
  {
   "cell_type": "code",
   "execution_count": 88,
   "id": "mysterious-trial",
   "metadata": {},
   "outputs": [],
   "source": [
    "df_add_station = df_json[[\"properties.駅名\", \"properties.運営会社\", \"properties.路線名\", \"properties.乗降客数18\"]].copy()\n",
    "df_add_station.rename(columns={\"properties.駅名\":\"最寄駅：名称\",\n",
    "                               \"properties.運営会社\":\"運営会社\",\n",
    "                               \"properties.路線名\":\"路線名\",\n",
    "                               \"properties.乗降客数18\":\"乗降客数18\"}, inplace=True)"
   ]
  },
  {
   "cell_type": "code",
   "execution_count": 89,
   "id": "built-darkness",
   "metadata": {},
   "outputs": [],
   "source": [
    "df_add_station.to_csv(\"../add/station.csv\", index=False)"
   ]
  },
  {
   "cell_type": "code",
   "execution_count": 90,
   "id": "vocal-thermal",
   "metadata": {},
   "outputs": [
    {
     "data": {
      "text/html": [
       "<div>\n",
       "<style scoped>\n",
       "    .dataframe tbody tr th:only-of-type {\n",
       "        vertical-align: middle;\n",
       "    }\n",
       "\n",
       "    .dataframe tbody tr th {\n",
       "        vertical-align: top;\n",
       "    }\n",
       "\n",
       "    .dataframe thead th {\n",
       "        text-align: right;\n",
       "    }\n",
       "</style>\n",
       "<table border=\"1\" class=\"dataframe\">\n",
       "  <thead>\n",
       "    <tr style=\"text-align: right;\">\n",
       "      <th></th>\n",
       "      <th>最寄駅：名称</th>\n",
       "      <th>運営会社</th>\n",
       "      <th>路線名</th>\n",
       "      <th>乗降客数18</th>\n",
       "    </tr>\n",
       "  </thead>\n",
       "  <tbody>\n",
       "    <tr>\n",
       "      <th>0</th>\n",
       "      <td>二月田</td>\n",
       "      <td>九州旅客鉄道</td>\n",
       "      <td>指宿枕崎線</td>\n",
       "      <td>658</td>\n",
       "    </tr>\n",
       "    <tr>\n",
       "      <th>1</th>\n",
       "      <td>古島</td>\n",
       "      <td>沖縄都市モノレール</td>\n",
       "      <td>沖縄都市モノレール線</td>\n",
       "      <td>5086</td>\n",
       "    </tr>\n",
       "    <tr>\n",
       "      <th>2</th>\n",
       "      <td>お台場海浜公園</td>\n",
       "      <td>ゆりかもめ</td>\n",
       "      <td>東京臨海新交通臨海線</td>\n",
       "      <td>17165</td>\n",
       "    </tr>\n",
       "    <tr>\n",
       "      <th>3</th>\n",
       "      <td>東京国際クルーズターミナル</td>\n",
       "      <td>ゆりかもめ</td>\n",
       "      <td>東京臨海新交通臨海線</td>\n",
       "      <td>3551</td>\n",
       "    </tr>\n",
       "    <tr>\n",
       "      <th>4</th>\n",
       "      <td>テレコムセンター</td>\n",
       "      <td>ゆりかもめ</td>\n",
       "      <td>東京臨海新交通臨海線</td>\n",
       "      <td>13475</td>\n",
       "    </tr>\n",
       "    <tr>\n",
       "      <th>...</th>\n",
       "      <td>...</td>\n",
       "      <td>...</td>\n",
       "      <td>...</td>\n",
       "      <td>...</td>\n",
       "    </tr>\n",
       "    <tr>\n",
       "      <th>10441</th>\n",
       "      <td>栄町</td>\n",
       "      <td>富山地方鉄道</td>\n",
       "      <td>不二越線</td>\n",
       "      <td>53</td>\n",
       "    </tr>\n",
       "    <tr>\n",
       "      <th>10442</th>\n",
       "      <td>清流みはらし</td>\n",
       "      <td>錦川鉄道</td>\n",
       "      <td>錦川清流線</td>\n",
       "      <td>0</td>\n",
       "    </tr>\n",
       "    <tr>\n",
       "      <th>10443</th>\n",
       "      <td>八木沢・宮古短大</td>\n",
       "      <td>三陸鉄道</td>\n",
       "      <td>リアス線</td>\n",
       "      <td>49</td>\n",
       "    </tr>\n",
       "    <tr>\n",
       "      <th>10444</th>\n",
       "      <td>払川</td>\n",
       "      <td>三陸鉄道</td>\n",
       "      <td>リアス線</td>\n",
       "      <td>57</td>\n",
       "    </tr>\n",
       "    <tr>\n",
       "      <th>10445</th>\n",
       "      <td>糸島高校前</td>\n",
       "      <td>九州旅客鉄道</td>\n",
       "      <td>筑肥線</td>\n",
       "      <td>2037</td>\n",
       "    </tr>\n",
       "  </tbody>\n",
       "</table>\n",
       "<p>10446 rows × 4 columns</p>\n",
       "</div>"
      ],
      "text/plain": [
       "              最寄駅：名称       運営会社         路線名  乗降客数18\n",
       "0                二月田     九州旅客鉄道       指宿枕崎線     658\n",
       "1                 古島  沖縄都市モノレール  沖縄都市モノレール線    5086\n",
       "2            お台場海浜公園      ゆりかもめ  東京臨海新交通臨海線   17165\n",
       "3      東京国際クルーズターミナル      ゆりかもめ  東京臨海新交通臨海線    3551\n",
       "4           テレコムセンター      ゆりかもめ  東京臨海新交通臨海線   13475\n",
       "...              ...        ...         ...     ...\n",
       "10441             栄町     富山地方鉄道        不二越線      53\n",
       "10442         清流みはらし       錦川鉄道       錦川清流線       0\n",
       "10443       八木沢・宮古短大       三陸鉄道        リアス線      49\n",
       "10444             払川       三陸鉄道        リアス線      57\n",
       "10445          糸島高校前     九州旅客鉄道         筑肥線    2037\n",
       "\n",
       "[10446 rows x 4 columns]"
      ]
     },
     "execution_count": 90,
     "metadata": {},
     "output_type": "execute_result"
    }
   ],
   "source": [
    "pd.read_csv(\"../add/station.csv\")"
   ]
  },
  {
   "cell_type": "code",
   "execution_count": null,
   "id": "assumed-anxiety",
   "metadata": {},
   "outputs": [],
   "source": []
  }
 ],
 "metadata": {
  "kernelspec": {
   "display_name": "Python 3",
   "language": "python",
   "name": "python3"
  },
  "language_info": {
   "codemirror_mode": {
    "name": "ipython",
    "version": 3
   },
   "file_extension": ".py",
   "mimetype": "text/x-python",
   "name": "python",
   "nbconvert_exporter": "python",
   "pygments_lexer": "ipython3",
   "version": "3.6.13"
  }
 },
 "nbformat": 4,
 "nbformat_minor": 5
}
